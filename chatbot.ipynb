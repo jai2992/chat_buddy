{
 "cells": [
  {
   "cell_type": "code",
   "execution_count": 1,
   "metadata": {},
   "outputs": [],
   "source": [
    "import os\n",
    "import langchain\n",
    "from langchain_pinecone import PineconeVectorStore\n",
    "from langchain.chains.question_answering import load_qa_chain\n",
    "from langchain_community.embeddings import HuggingFaceInferenceAPIEmbeddings\n",
    "from pinecone import Pinecone\n",
    "from langchain_groq import ChatGroq\n"
   ]
  },
  {
   "cell_type": "code",
   "execution_count": 2,
   "metadata": {},
   "outputs": [],
   "source": [
    "os.environ[\"PINECONE_API_KEY\"] = 'your api key'\n",
    "os.environ['GROQ_API_KEY'] = 'your api key'\n",
    "os.environ['HUGGING_FACE_API_KEY'] = 'your api key'"
   ]
  },
  {
   "cell_type": "code",
   "execution_count": 3,
   "metadata": {},
   "outputs": [],
   "source": [
    "pc = Pinecone(api_key='your api key')"
   ]
  },
  {
   "cell_type": "code",
   "execution_count": 4,
   "metadata": {},
   "outputs": [],
   "source": [
    "llm = ChatGroq(temperature=0,model_name=\"llama3-70b-8192\")"
   ]
  },
  {
   "cell_type": "code",
   "execution_count": 5,
   "metadata": {},
   "outputs": [],
   "source": [
    "chain = load_qa_chain(llm, chain_type='stuff')"
   ]
  },
  {
   "cell_type": "code",
   "execution_count": 6,
   "metadata": {},
   "outputs": [],
   "source": [
    "embeddings = HuggingFaceInferenceAPIEmbeddings(api_key='your api key', model_name=\"sentence-transformers/all-MiniLM-l6-v2\")"
   ]
  },
  {
   "cell_type": "code",
   "execution_count": 7,
   "metadata": {},
   "outputs": [],
   "source": [
    "docsearch = PineconeVectorStore.from_texts([], embeddings, index_name='sece-chat')"
   ]
  },
  {
   "cell_type": "code",
   "execution_count": 8,
   "metadata": {},
   "outputs": [],
   "source": [
    "def retrive_query(query):\n",
    "    matching_results = docsearch.similarity_search(query=query, k=2)\n",
    "    return matching_results"
   ]
  },
  {
   "cell_type": "code",
   "execution_count": 9,
   "metadata": {},
   "outputs": [],
   "source": [
    "def retrive_answer(query):\n",
    "    doc_search = retrive_query(query)\n",
    "    print(doc_search)\n",
    "    response = chain.run(input_documents=doc_search, question=query+'dont mention that the answer is from context and format the output for html page')\n",
    "    return response"
   ]
  },
  {
   "cell_type": "code",
   "execution_count": 10,
   "metadata": {},
   "outputs": [],
   "source": [
    "from flask import Flask, render_template, request, jsonify\n",
    "\n",
    "app = Flask(__name__)\n",
    "\n",
    "@app.route('/')\n",
    "def index():\n",
    "    return render_template('index.html')\n"
   ]
  },
  {
   "cell_type": "code",
   "execution_count": 11,
   "metadata": {},
   "outputs": [],
   "source": [
    "@app.route('/chat', methods=['POST'])\n",
    "def chat():\n",
    "    query = request.form['message']\n",
    "    response = retrive_answer(query)\n",
    "    print(response)\n",
    "    return jsonify({'response': response})\n"
   ]
  },
  {
   "cell_type": "code",
   "execution_count": 12,
   "metadata": {},
   "outputs": [
    {
     "name": "stdout",
     "output_type": "stream",
     "text": [
      " * Serving Flask app '__main__'\n",
      " * Debug mode: off\n"
     ]
    },
    {
     "name": "stderr",
     "output_type": "stream",
     "text": [
      "WARNING: This is a development server. Do not use it in a production deployment. Use a production WSGI server instead.\n",
      " * Running on http://127.0.0.1:5000\n",
      "Press CTRL+C to quit\n",
      "127.0.0.1 - - [13/Jun/2024 12:28:07] \"GET / HTTP/1.1\" 200 -\n",
      "127.0.0.1 - - [13/Jun/2024 12:28:07] \"GET /static/style.css HTTP/1.1\" 304 -\n",
      "127.0.0.1 - - [13/Jun/2024 12:28:07] \"GET /favicon.ico HTTP/1.1\" 404 -\n"
     ]
    },
    {
     "name": "stdout",
     "output_type": "stream",
     "text": [
      "[Document(page_content='averaging 25 LPA. Fifty -six students secured offers around 10 LPA. Additionally, 116 students \\nreceived packages averaging 7 LPA, and 450 students obtained offers above 4 LPA. These \\noutcomes reflect a mix of high -paying and moderately lucrative opportunities, showcasing the \\ndiversity and depth of the job market for SECE students.  \\nEVENTS at SECE  \\nGuest Lecture on “Signals & Systems”  \\nOrganized by the Dept. of Electronics and Communication Engineering on 26/04/2024.', metadata={'page': 1.0, 'source': 'sece-doc\\\\SECE doc data 1.pdf'}), Document(page_content='SECE -Sri Eshwar College of Engineering  \\nAcademic Programs  \\nUndergraduate Programs include a variety of specialized courses aimed at providing students \\nwith foundational knowledge and practical skills in engineering and technology. The B.E. and \\nB.Tech programs blend theoretical learning with hands -on training, ensuring a deep \\nunderstanding of various engineering branches.  \\nComputer Science Engineering (CSE)  focuses on computer systems, software development,', metadata={'page': 0.0, 'source': 'sece-doc\\\\SECE doc data 1.pdf'})]\n"
     ]
    },
    {
     "name": "stderr",
     "output_type": "stream",
     "text": [
      "c:\\Users\\jai29\\AppData\\Local\\Programs\\Python\\Python310\\lib\\site-packages\\langchain_core\\_api\\deprecation.py:119: LangChainDeprecationWarning: The method `Chain.run` was deprecated in langchain 0.1.0 and will be removed in 0.3.0. Use invoke instead.\n",
      "  warn_deprecated(\n",
      "127.0.0.1 - - [13/Jun/2024 12:28:16] \"POST /chat HTTP/1.1\" 200 -\n"
     ]
    },
    {
     "name": "stdout",
     "output_type": "stream",
     "text": [
      "<h2>About SECE</h2>\n",
      "\n",
      "<p>Sri Eshwar College of Engineering (SECE) offers a range of academic programs, including undergraduate programs in various engineering branches.</p>\n",
      "\n",
      "<h3>Academic Programs</h3>\n",
      "\n",
      "<p>The college provides a variety of specialized courses aimed at providing students with foundational knowledge and practical skills in engineering and technology. The B.E. and B.Tech programs blend theoretical learning with hands-on training, ensuring a deep understanding of various engineering branches.</p>\n",
      "\n",
      "<h3>Departments</h3>\n",
      "\n",
      "<p>The college has a Department of Electronics and Communication Engineering, which organizes events such as guest lectures. For example, a guest lecture on \"Signals & Systems\" was organized on 26/04/2024.</p>\n",
      "\n",
      "<h3>Placements</h3>\n",
      "\n",
      "<p>SECE has a strong placement record, with students securing offers from various companies. The college has reported that students have secured offers with average salaries ranging from 4 LPA to 25 LPA, with some students receiving offers above 10 LPA.</p>\n"
     ]
    },
    {
     "name": "stderr",
     "output_type": "stream",
     "text": [
      "127.0.0.1 - - [13/Jun/2024 12:28:30] \"GET / HTTP/1.1\" 200 -\n",
      "127.0.0.1 - - [13/Jun/2024 12:28:30] \"GET /static/style.css HTTP/1.1\" 304 -\n"
     ]
    },
    {
     "name": "stdout",
     "output_type": "stream",
     "text": [
      "[Document(page_content='The bus then travels to Sungam and Ambrampalayam, followed by Uthukuli and Pollachi. Continuing \\nits route, it reaches Vadakipalayam Pirivu and Ponnapuram Pirivu. The next stops are \\nVadakipalayam and Sulakkal, with Thamaraikulam as the final destination before reaching \\nKinathukadavu.  \\n \\nVellalore - Bus no: 22  \\n \\nThe route for Bus no: 22 starts at Vellalore, moving towards Konavaikkal Palayam and GD Tank. The', metadata={'page': 27.0, 'source': 'sece-doc\\\\SECE doc data 1.pdf'}), Document(page_content=\"Dr. M.P. Sindhu, Dr. M. Tamilarasi, Dr. S. Varshini, Ms. A. Revathy, Ms. K. Sivaranjani, Ms. V. Deepa, \\nMs. Gowri J, Ms. M.M. Shalini, Ms. R. Hemalatha, and Ms. N. Akiladevi excelling in their roles as \\nAssistant Professors at various levels within the department. This dedicated team, led by Dr. R. \\nSuresh, upholds the department's academic excellence and commitment to nurturing aspiring \\nmathematicians through their collective expertise and experience in the field.\", metadata={'page': 21.0, 'source': 'sece-doc\\\\SECE doc data 1.pdf'})]\n"
     ]
    },
    {
     "name": "stderr",
     "output_type": "stream",
     "text": [
      "127.0.0.1 - - [13/Jun/2024 12:28:47] \"POST /chat HTTP/1.1\" 200 -\n"
     ]
    },
    {
     "name": "stdout",
     "output_type": "stream",
     "text": [
      "<p>There is no mention of \"Thenmozhi\" in the provided context.</p>\n"
     ]
    },
    {
     "name": "stderr",
     "output_type": "stream",
     "text": [
      "127.0.0.1 - - [13/Jun/2024 12:28:52] \"GET / HTTP/1.1\" 200 -\n",
      "127.0.0.1 - - [13/Jun/2024 12:28:52] \"GET /static/style.css HTTP/1.1\" 304 -\n"
     ]
    }
   ],
   "source": [
    "if __name__ == '__main__':\n",
    "\n",
    "    app.run(debug=False)"
   ]
  },
  {
   "cell_type": "code",
   "execution_count": null,
   "metadata": {},
   "outputs": [
    {
     "data": {
      "text/plain": [
       "384"
      ]
     },
     "execution_count": 14,
     "metadata": {},
     "output_type": "execute_result"
    }
   ],
   "source": [
    "vectors=embeddings.embed_query(\"hello world\")\n",
    "len(vectors)"
   ]
  },
  {
   "cell_type": "code",
   "execution_count": null,
   "metadata": {},
   "outputs": [],
   "source": [
    "response = retrive_answer(\"Tell about sece\")"
   ]
  },
  {
   "cell_type": "code",
   "execution_count": null,
   "metadata": {},
   "outputs": [
    {
     "name": "stdout",
     "output_type": "stream",
     "text": [
      "10\n",
      "9\n",
      "8\n",
      "7\n",
      "6\n",
      "5\n",
      "4\n",
      "3\n",
      "2\n",
      "1\n"
     ]
    }
   ],
   "source": [
    "for i in range(10,0,-1):\n",
    "    print(i)"
   ]
  },
  {
   "cell_type": "code",
   "execution_count": null,
   "metadata": {},
   "outputs": [],
   "source": []
  }
 ],
 "metadata": {
  "kernelspec": {
   "display_name": "py310",
   "language": "python",
   "name": "python3"
  },
  "language_info": {
   "codemirror_mode": {
    "name": "ipython",
    "version": 3
   },
   "file_extension": ".py",
   "mimetype": "text/x-python",
   "name": "python",
   "nbconvert_exporter": "python",
   "pygments_lexer": "ipython3",
   "version": "3.10.10"
  }
 },
 "nbformat": 4,
 "nbformat_minor": 2
}
